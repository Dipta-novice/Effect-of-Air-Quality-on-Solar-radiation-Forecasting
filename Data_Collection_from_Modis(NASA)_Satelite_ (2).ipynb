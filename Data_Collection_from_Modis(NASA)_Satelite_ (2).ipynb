{
  "nbformat": 4,
  "nbformat_minor": 0,
  "metadata": {
    "colab": {
      "name": "Data Collection from Modis(NASA) Satelite .ipynb",
      "provenance": []
    },
    "kernelspec": {
      "name": "python3",
      "display_name": "Python 3"
    },
    "language_info": {
      "name": "python"
    },
    "accelerator": "GPU"
  },
  "cells": [
    {
      "cell_type": "code",
      "execution_count": null,
      "metadata": {
        "colab": {
          "base_uri": "https://localhost:8080/"
        },
        "id": "3jHsYXNKpSZl",
        "outputId": "bca819a5-6d4f-46ef-9cd3-f9c5e0658764"
      },
      "outputs": [
        {
          "output_type": "stream",
          "name": "stdout",
          "text": [
            "Mounted at /content/drive\n"
          ]
        }
      ],
      "source": [
        "from google.colab import drive\n",
        "drive.mount('/content/drive')"
      ]
    },
    {
      "cell_type": "code",
      "source": [
        "cd /content/drive/MyDrive/modis2019/b10"
      ],
      "metadata": {
        "colab": {
          "base_uri": "https://localhost:8080/"
        },
        "id": "70Vr2uXmiY2w",
        "outputId": "ff2224b0-cfc0-4001-8dd4-896863161720"
      },
      "execution_count": null,
      "outputs": [
        {
          "output_type": "stream",
          "name": "stdout",
          "text": [
            "/content/drive/MyDrive/modis2019/b10\n"
          ]
        }
      ]
    },
    {
      "cell_type": "code",
      "source": [
        "ls"
      ],
      "metadata": {
        "colab": {
          "base_uri": "https://localhost:8080/"
        },
        "id": "NADaDKPMraZ6",
        "outputId": "7c1f97b3-24ef-4117-efbb-ec7a36d1680b"
      },
      "execution_count": null,
      "outputs": [
        {
          "output_type": "stream",
          "name": "stdout",
          "text": [
            "10b.csv\n",
            "Filelist10.txt\n",
            "MYD04_L2.A2019310.0755.061.2019312153917.hdf\n",
            "MYD04_L2.A2019311.0700.061.2019316170256.hdf\n",
            "MYD04_L2.A2019311.0835.061.2019316170916.hdf\n",
            "MYD04_L2.A2019312.0740.061.2019316185019.hdf\n",
            "MYD04_L2.A2019312.0915.061.2019316184816.hdf\n",
            "MYD04_L2.A2019313.0820.061.2019316190221.hdf\n",
            "MYD04_L2.A2019313.0825.061.2019316190613.hdf\n",
            "MYD04_L2.A2019314.0725.061.2019316191714.hdf\n",
            "MYD04_L2.A2019314.0730.061.2019316191827.hdf\n",
            "MYD04_L2.A2019314.0905.061.2019316192152.hdf\n",
            "MYD04_L2.A2019315.0810.061.2019316192947.hdf\n",
            "MYD04_L2.A2019316.0715.061.2019316201940.hdf\n",
            "MYD04_L2.A2019316.0855.061.2019316201507.hdf\n",
            "MYD04_L2.A2019317.0755.061.2019317193133.hdf\n",
            "MYD04_L2.A2019317.0800.061.2019317193408.hdf\n",
            "MYD04_L2.A2019318.0705.061.2019323045046.hdf\n",
            "MYD04_L2.A2019318.0840.061.2019323045011.hdf\n",
            "MYD04_L2.A2019318.0845.061.2019323045053.hdf\n",
            "MYD04_L2.A2019319.0745.061.2019323063719.hdf\n",
            "MYD04_L2.A2019320.0830.061.2019323064419.hdf\n",
            "MYD04_L2.A2019321.0730.061.2019323065742.hdf\n",
            "MYD04_L2.A2019321.0735.061.2019323070135.hdf\n",
            "MYD04_L2.A2019321.0910.061.2019323065902.hdf\n",
            "MYD04_L2.A2019322.0815.061.2019323071031.hdf\n",
            "MYD04_L2.A2019322.0820.061.2019323071744.hdf\n",
            "MYD04_L2.A2019323.0720.061.2019323193136.hdf\n",
            "MYD04_L2.A2019323.0900.061.2019323193059.hdf\n",
            "MYD04_L2.A2019324.0805.061.2019324192606.hdf\n",
            "MYD04_L2.A2019325.0710.061.2019325200355.hdf\n",
            "MYD04_L2.A2019325.0845.061.2019325200222.hdf\n",
            "MYD04_L2.A2019325.0850.061.2019325201527.hdf\n",
            "MYD04_L2.A2019326.0750.061.2019326211842.hdf\n",
            "MYD04_L2.A2019326.0755.061.2019326211837.hdf\n",
            "MYD04_L2.A2019327.0700.061.2019327192721.hdf\n",
            "MYD04_L2.A2019327.0835.061.2019327193001.hdf\n",
            "MYD04_L2.A2019328.0740.061.2019329140530.hdf\n",
            "MYD04_L2.A2019328.0915.061.2019329150033.hdf\n",
            "MYD04_L2.A2019329.0820.061.2019329214540.hdf\n",
            "MYD04_L2.A2019329.0825.061.2019329215328.hdf\n",
            "MYD04_L2.A2019330.0725.061.2019330192922.hdf\n",
            "MYD04_L2.A2019330.0730.061.2019330193212.hdf\n",
            "MYD04_L2.A2019330.0905.061.2019330193016.hdf\n",
            "MYD04_L2.A2019331.0810.061.2019331192232.hdf\n",
            "MYD04_L2.A2019332.0715.061.2019332193100.hdf\n",
            "MYD04_L2.A2019332.0855.061.2019332192843.hdf\n",
            "MYD04_L2.A2019333.0755.061.2019333192723.hdf\n",
            "MYD04_L2.A2019333.0800.061.2019333193111.hdf\n",
            "MYD04_L2.A2019334.0705.061.2019334192340.hdf\n",
            "MYD04_L2.A2019334.0840.061.2019334191838.hdf\n",
            "MYD04_L2.A2019334.0845.061.2019334192448.hdf\n",
            "MYD04_L2.A2019335.0745.061.2019336205750.hdf\n",
            "MYD04_L2.A2019336.0830.061.2019336211820.hdf\n",
            "MYD04_L2.A2019337.0730.061.2019337192051.hdf\n",
            "MYD04_L2.A2019337.0735.061.2019337192043.hdf\n",
            "MYD04_L2.A2019337.0910.061.2019337191827.hdf\n",
            "MYD04_L2.A2019338.0815.061.2019338192151.hdf\n",
            "MYD04_L2.A2019338.0820.061.2019338192426.hdf\n",
            "MYD04_L2.A2019339.0720.061.2019344181022.hdf\n",
            "MYD04_L2.A2019339.0900.061.2019344174941.hdf\n",
            "MYD04_L2.A2019340.0805.061.2019345020706.hdf\n",
            "MYD04_L2.A2019341.0845.061.2019345021824.hdf\n",
            "MYD04_L2.A2019341.0850.061.2019345022044.hdf\n",
            "MYD04_L2.A2019342.0750.061.2019345023252.hdf\n",
            "MYD04_L2.A2019342.0755.061.2019345023856.hdf\n",
            "MYD04_L2.A2019343.0700.061.2019345024909.hdf\n",
            "MYD04_L2.A2019343.0835.061.2019345025003.hdf\n",
            "MYD04_L2.A2019344.0740.061.2019345015130.hdf\n",
            "MYD04_L2.A2019344.0915.061.2019345015005.hdf\n",
            "MYD04_L2.A2019345.0820.061.2019345192602.hdf\n",
            "MYD04_L2.A2019345.0825.061.2019345192743.hdf\n",
            "MYD04_L2.A2019346.0725.061.2019346193850.hdf\n",
            "MYD04_L2.A2019346.0730.061.2019346194112.hdf\n",
            "MYD04_L2.A2019346.0905.061.2019346193637.hdf\n",
            "MYD04_L2.A2019347.0810.061.2019347192337.hdf\n",
            "MYD04_L2.A2019348.0715.061.2019348192714.hdf\n",
            "MYD04_L2.A2019348.0855.061.2019348192702.hdf\n",
            "MYD04_L2.A2019349.0755.061.2019349185737.hdf\n",
            "MYD04_L2.A2019349.0800.061.2019349185942.hdf\n",
            "MYD04_L2.A2019350.0705.061.2019350185912.hdf\n",
            "MYD04_L2.A2019350.0840.061.2019350185729.hdf\n",
            "MYD04_L2.A2019350.0845.061.2019350185900.hdf\n",
            "MYD04_L2.A2019351.0745.061.2019351203253.hdf\n",
            "MYD04_L2.A2019352.0830.061.2019352193735.hdf\n",
            "MYD04_L2.A2019353.0730.061.2019353192054.hdf\n",
            "MYD04_L2.A2019353.0735.061.2019353192254.hdf\n",
            "MYD04_L2.A2019353.0910.061.2019353192032.hdf\n"
          ]
        }
      ]
    },
    {
      "cell_type": "code",
      "source": [
        "pip install pyhdf"
      ],
      "metadata": {
        "colab": {
          "base_uri": "https://localhost:8080/"
        },
        "id": "pxuL8-pTrCfh",
        "outputId": "6777094e-5068-40c9-ed1c-0b48a09acc78"
      },
      "execution_count": null,
      "outputs": [
        {
          "output_type": "stream",
          "name": "stdout",
          "text": [
            "Collecting pyhdf\n",
            "  Downloading pyhdf-0.10.3-cp37-cp37m-manylinux2014_x86_64.whl (757 kB)\n",
            "\u001b[?25l\r\u001b[K     |▍                               | 10 kB 27.1 MB/s eta 0:00:01\r\u001b[K     |▉                               | 20 kB 31.6 MB/s eta 0:00:01\r\u001b[K     |█▎                              | 30 kB 36.8 MB/s eta 0:00:01\r\u001b[K     |█▊                              | 40 kB 26.7 MB/s eta 0:00:01\r\u001b[K     |██▏                             | 51 kB 20.4 MB/s eta 0:00:01\r\u001b[K     |██▋                             | 61 kB 23.3 MB/s eta 0:00:01\r\u001b[K     |███                             | 71 kB 23.5 MB/s eta 0:00:01\r\u001b[K     |███▌                            | 81 kB 24.7 MB/s eta 0:00:01\r\u001b[K     |████                            | 92 kB 26.8 MB/s eta 0:00:01\r\u001b[K     |████▎                           | 102 kB 24.8 MB/s eta 0:00:01\r\u001b[K     |████▊                           | 112 kB 24.8 MB/s eta 0:00:01\r\u001b[K     |█████▏                          | 122 kB 24.8 MB/s eta 0:00:01\r\u001b[K     |█████▋                          | 133 kB 24.8 MB/s eta 0:00:01\r\u001b[K     |██████                          | 143 kB 24.8 MB/s eta 0:00:01\r\u001b[K     |██████▌                         | 153 kB 24.8 MB/s eta 0:00:01\r\u001b[K     |███████                         | 163 kB 24.8 MB/s eta 0:00:01\r\u001b[K     |███████▍                        | 174 kB 24.8 MB/s eta 0:00:01\r\u001b[K     |███████▉                        | 184 kB 24.8 MB/s eta 0:00:01\r\u001b[K     |████████▏                       | 194 kB 24.8 MB/s eta 0:00:01\r\u001b[K     |████████▋                       | 204 kB 24.8 MB/s eta 0:00:01\r\u001b[K     |█████████                       | 215 kB 24.8 MB/s eta 0:00:01\r\u001b[K     |█████████▌                      | 225 kB 24.8 MB/s eta 0:00:01\r\u001b[K     |██████████                      | 235 kB 24.8 MB/s eta 0:00:01\r\u001b[K     |██████████▍                     | 245 kB 24.8 MB/s eta 0:00:01\r\u001b[K     |██████████▉                     | 256 kB 24.8 MB/s eta 0:00:01\r\u001b[K     |███████████▎                    | 266 kB 24.8 MB/s eta 0:00:01\r\u001b[K     |███████████▊                    | 276 kB 24.8 MB/s eta 0:00:01\r\u001b[K     |████████████▏                   | 286 kB 24.8 MB/s eta 0:00:01\r\u001b[K     |████████████▌                   | 296 kB 24.8 MB/s eta 0:00:01\r\u001b[K     |█████████████                   | 307 kB 24.8 MB/s eta 0:00:01\r\u001b[K     |█████████████▍                  | 317 kB 24.8 MB/s eta 0:00:01\r\u001b[K     |█████████████▉                  | 327 kB 24.8 MB/s eta 0:00:01\r\u001b[K     |██████████████▎                 | 337 kB 24.8 MB/s eta 0:00:01\r\u001b[K     |██████████████▊                 | 348 kB 24.8 MB/s eta 0:00:01\r\u001b[K     |███████████████▏                | 358 kB 24.8 MB/s eta 0:00:01\r\u001b[K     |███████████████▋                | 368 kB 24.8 MB/s eta 0:00:01\r\u001b[K     |████████████████                | 378 kB 24.8 MB/s eta 0:00:01\r\u001b[K     |████████████████▍               | 389 kB 24.8 MB/s eta 0:00:01\r\u001b[K     |████████████████▉               | 399 kB 24.8 MB/s eta 0:00:01\r\u001b[K     |█████████████████▎              | 409 kB 24.8 MB/s eta 0:00:01\r\u001b[K     |█████████████████▊              | 419 kB 24.8 MB/s eta 0:00:01\r\u001b[K     |██████████████████▏             | 430 kB 24.8 MB/s eta 0:00:01\r\u001b[K     |██████████████████▋             | 440 kB 24.8 MB/s eta 0:00:01\r\u001b[K     |███████████████████             | 450 kB 24.8 MB/s eta 0:00:01\r\u001b[K     |███████████████████▌            | 460 kB 24.8 MB/s eta 0:00:01\r\u001b[K     |████████████████████            | 471 kB 24.8 MB/s eta 0:00:01\r\u001b[K     |████████████████████▎           | 481 kB 24.8 MB/s eta 0:00:01\r\u001b[K     |████████████████████▊           | 491 kB 24.8 MB/s eta 0:00:01\r\u001b[K     |█████████████████████▏          | 501 kB 24.8 MB/s eta 0:00:01\r\u001b[K     |█████████████████████▋          | 512 kB 24.8 MB/s eta 0:00:01\r\u001b[K     |██████████████████████          | 522 kB 24.8 MB/s eta 0:00:01\r\u001b[K     |██████████████████████▌         | 532 kB 24.8 MB/s eta 0:00:01\r\u001b[K     |███████████████████████         | 542 kB 24.8 MB/s eta 0:00:01\r\u001b[K     |███████████████████████▍        | 552 kB 24.8 MB/s eta 0:00:01\r\u001b[K     |███████████████████████▉        | 563 kB 24.8 MB/s eta 0:00:01\r\u001b[K     |████████████████████████▎       | 573 kB 24.8 MB/s eta 0:00:01\r\u001b[K     |████████████████████████▋       | 583 kB 24.8 MB/s eta 0:00:01\r\u001b[K     |█████████████████████████       | 593 kB 24.8 MB/s eta 0:00:01\r\u001b[K     |█████████████████████████▌      | 604 kB 24.8 MB/s eta 0:00:01\r\u001b[K     |██████████████████████████      | 614 kB 24.8 MB/s eta 0:00:01\r\u001b[K     |██████████████████████████▍     | 624 kB 24.8 MB/s eta 0:00:01\r\u001b[K     |██████████████████████████▉     | 634 kB 24.8 MB/s eta 0:00:01\r\u001b[K     |███████████████████████████▎    | 645 kB 24.8 MB/s eta 0:00:01\r\u001b[K     |███████████████████████████▊    | 655 kB 24.8 MB/s eta 0:00:01\r\u001b[K     |████████████████████████████▏   | 665 kB 24.8 MB/s eta 0:00:01\r\u001b[K     |████████████████████████████▌   | 675 kB 24.8 MB/s eta 0:00:01\r\u001b[K     |█████████████████████████████   | 686 kB 24.8 MB/s eta 0:00:01\r\u001b[K     |█████████████████████████████▍  | 696 kB 24.8 MB/s eta 0:00:01\r\u001b[K     |█████████████████████████████▉  | 706 kB 24.8 MB/s eta 0:00:01\r\u001b[K     |██████████████████████████████▎ | 716 kB 24.8 MB/s eta 0:00:01\r\u001b[K     |██████████████████████████████▊ | 727 kB 24.8 MB/s eta 0:00:01\r\u001b[K     |███████████████████████████████▏| 737 kB 24.8 MB/s eta 0:00:01\r\u001b[K     |███████████████████████████████▋| 747 kB 24.8 MB/s eta 0:00:01\r\u001b[K     |████████████████████████████████| 757 kB 24.8 MB/s \n",
            "\u001b[?25hRequirement already satisfied: numpy in /usr/local/lib/python3.7/dist-packages (from pyhdf) (1.21.5)\n",
            "Installing collected packages: pyhdf\n",
            "Successfully installed pyhdf-0.10.3\n"
          ]
        }
      ]
    },
    {
      "cell_type": "code",
      "source": [
        "from mpl_toolkits.basemap import Basemap"
      ],
      "metadata": {
        "id": "_La8D-gSMtoy"
      },
      "execution_count": null,
      "outputs": []
    },
    {
      "cell_type": "code",
      "source": [
        "from pyhdf import SD\n",
        "import numpy as np\n",
        "#from mpl_toolkits.basemap import Basemap, cm\n",
        "import matplotlib.pyplot as plt\n",
        "import sys\n",
        "import pandas as pd\n",
        "from matplotlib.colors import LinearSegmentedColormap\n"
      ],
      "metadata": {
        "id": "D8KY7v7QqXJE"
      },
      "execution_count": null,
      "outputs": []
    },
    {
      "cell_type": "markdown",
      "source": [
        "This data is from 27.3.2022 to 29.3.2022 "
      ],
      "metadata": {
        "id": "F7iZOJLWMMxo"
      }
    },
    {
      "cell_type": "code",
      "source": [
        "from google.colab import files\n",
        "uploaded=files.upload()"
      ],
      "metadata": {
        "colab": {
          "resources": {
            "http://localhost:8080/nbextensions/google.colab/files.js": {
              "data": "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",
              "ok": true,
              "headers": [
                [
                  "content-type",
                  "application/javascript"
                ]
              ],
              "status": 200,
              "status_text": ""
            }
          },
          "base_uri": "https://localhost:8080/",
          "height": 72
        },
        "id": "ak3WHZb_AZET",
        "outputId": "e4d116ce-bb06-42c8-c34a-3670315a59b7"
      },
      "execution_count": null,
      "outputs": [
        {
          "output_type": "display_data",
          "data": {
            "text/plain": [
              "<IPython.core.display.HTML object>"
            ],
            "text/html": [
              "\n",
              "     <input type=\"file\" id=\"files-876c6fbe-4540-4100-a029-c3cc16b10cd1\" name=\"files[]\" multiple disabled\n",
              "        style=\"border:none\" />\n",
              "     <output id=\"result-876c6fbe-4540-4100-a029-c3cc16b10cd1\">\n",
              "      Upload widget is only available when the cell has been executed in the\n",
              "      current browser session. Please rerun this cell to enable.\n",
              "      </output>\n",
              "      <script src=\"/nbextensions/google.colab/files.js\"></script> "
            ]
          },
          "metadata": {}
        },
        {
          "output_type": "stream",
          "name": "stdout",
          "text": [
            "Saving modisfinal.xlsx to modisfinal.xlsx\n"
          ]
        }
      ]
    },
    {
      "cell_type": "code",
      "source": [
        "dd=pd.read_excel('modisfinal.xlsx')"
      ],
      "metadata": {
        "id": "TfjU3E6O1vUS"
      },
      "execution_count": null,
      "outputs": []
    },
    {
      "cell_type": "code",
      "source": [
        "dd"
      ],
      "metadata": {
        "colab": {
          "base_uri": "https://localhost:8080/",
          "height": 423
        },
        "id": "x69xBZlO1-nH",
        "outputId": "0ac9081b-b9cf-4922-9993-90c20a93d8ee"
      },
      "execution_count": null,
      "outputs": [
        {
          "output_type": "execute_result",
          "data": {
            "text/plain": [
              "                                       File name                 Date  \\\n",
              "0    MYD04_L2.A2019001.0910.061.2019001193310.hdf 2019-01-01 09:10:00   \n",
              "1    MYD04_L2.A2019001.0735.061.2019001193555.hdf 2019-01-01 07:35:00   \n",
              "2    MYD04_L2.A2019002.0815.061.2019002201512.hdf 2019-01-02 08:15:00   \n",
              "3    MYD04_L2.A2019002.0820.061.2019002202007.hdf 2019-01-02 08:20:00   \n",
              "4    MYD04_L2.A2019003.0720.061.2019003201016.hdf 2019-01-03 07:20:00   \n",
              "..                                            ...                 ...   \n",
              "710  MYD04_L2.A2019363.0810.061.2019363192600.hdf 2019-12-29 08:10:00   \n",
              "711  MYD04_L2.A2019364.0855.061.2019364191512.hdf 2019-12-30 08:55:00   \n",
              "712  MYD04_L2.A2019364.0715.061.2019364191613.hdf 2019-12-30 07:15:00   \n",
              "713  MYD04_L2.A2019365.0755.061.2019365193141.hdf 2019-12-31 07:55:00   \n",
              "714  MYD04_L2.A2019365.0800.061.2019365193626.hdf 2019-12-31 08:00:00   \n",
              "\n",
              "     Observed Aod value at (12.95,80.21)  \n",
              "0                                    NaN  \n",
              "1                                    NaN  \n",
              "2                                    NaN  \n",
              "3                                    NaN  \n",
              "4                                    NaN  \n",
              "..                                   ...  \n",
              "710                                  NaN  \n",
              "711                                  NaN  \n",
              "712                                  NaN  \n",
              "713                                  NaN  \n",
              "714                                  NaN  \n",
              "\n",
              "[715 rows x 3 columns]"
            ],
            "text/html": [
              "\n",
              "  <div id=\"df-d73b1071-a17e-453a-9043-36af11f96b03\">\n",
              "    <div class=\"colab-df-container\">\n",
              "      <div>\n",
              "<style scoped>\n",
              "    .dataframe tbody tr th:only-of-type {\n",
              "        vertical-align: middle;\n",
              "    }\n",
              "\n",
              "    .dataframe tbody tr th {\n",
              "        vertical-align: top;\n",
              "    }\n",
              "\n",
              "    .dataframe thead th {\n",
              "        text-align: right;\n",
              "    }\n",
              "</style>\n",
              "<table border=\"1\" class=\"dataframe\">\n",
              "  <thead>\n",
              "    <tr style=\"text-align: right;\">\n",
              "      <th></th>\n",
              "      <th>File name</th>\n",
              "      <th>Date</th>\n",
              "      <th>Observed Aod value at (12.95,80.21)</th>\n",
              "    </tr>\n",
              "  </thead>\n",
              "  <tbody>\n",
              "    <tr>\n",
              "      <th>0</th>\n",
              "      <td>MYD04_L2.A2019001.0910.061.2019001193310.hdf</td>\n",
              "      <td>2019-01-01 09:10:00</td>\n",
              "      <td>NaN</td>\n",
              "    </tr>\n",
              "    <tr>\n",
              "      <th>1</th>\n",
              "      <td>MYD04_L2.A2019001.0735.061.2019001193555.hdf</td>\n",
              "      <td>2019-01-01 07:35:00</td>\n",
              "      <td>NaN</td>\n",
              "    </tr>\n",
              "    <tr>\n",
              "      <th>2</th>\n",
              "      <td>MYD04_L2.A2019002.0815.061.2019002201512.hdf</td>\n",
              "      <td>2019-01-02 08:15:00</td>\n",
              "      <td>NaN</td>\n",
              "    </tr>\n",
              "    <tr>\n",
              "      <th>3</th>\n",
              "      <td>MYD04_L2.A2019002.0820.061.2019002202007.hdf</td>\n",
              "      <td>2019-01-02 08:20:00</td>\n",
              "      <td>NaN</td>\n",
              "    </tr>\n",
              "    <tr>\n",
              "      <th>4</th>\n",
              "      <td>MYD04_L2.A2019003.0720.061.2019003201016.hdf</td>\n",
              "      <td>2019-01-03 07:20:00</td>\n",
              "      <td>NaN</td>\n",
              "    </tr>\n",
              "    <tr>\n",
              "      <th>...</th>\n",
              "      <td>...</td>\n",
              "      <td>...</td>\n",
              "      <td>...</td>\n",
              "    </tr>\n",
              "    <tr>\n",
              "      <th>710</th>\n",
              "      <td>MYD04_L2.A2019363.0810.061.2019363192600.hdf</td>\n",
              "      <td>2019-12-29 08:10:00</td>\n",
              "      <td>NaN</td>\n",
              "    </tr>\n",
              "    <tr>\n",
              "      <th>711</th>\n",
              "      <td>MYD04_L2.A2019364.0855.061.2019364191512.hdf</td>\n",
              "      <td>2019-12-30 08:55:00</td>\n",
              "      <td>NaN</td>\n",
              "    </tr>\n",
              "    <tr>\n",
              "      <th>712</th>\n",
              "      <td>MYD04_L2.A2019364.0715.061.2019364191613.hdf</td>\n",
              "      <td>2019-12-30 07:15:00</td>\n",
              "      <td>NaN</td>\n",
              "    </tr>\n",
              "    <tr>\n",
              "      <th>713</th>\n",
              "      <td>MYD04_L2.A2019365.0755.061.2019365193141.hdf</td>\n",
              "      <td>2019-12-31 07:55:00</td>\n",
              "      <td>NaN</td>\n",
              "    </tr>\n",
              "    <tr>\n",
              "      <th>714</th>\n",
              "      <td>MYD04_L2.A2019365.0800.061.2019365193626.hdf</td>\n",
              "      <td>2019-12-31 08:00:00</td>\n",
              "      <td>NaN</td>\n",
              "    </tr>\n",
              "  </tbody>\n",
              "</table>\n",
              "<p>715 rows × 3 columns</p>\n",
              "</div>\n",
              "      <button class=\"colab-df-convert\" onclick=\"convertToInteractive('df-d73b1071-a17e-453a-9043-36af11f96b03')\"\n",
              "              title=\"Convert this dataframe to an interactive table.\"\n",
              "              style=\"display:none;\">\n",
              "        \n",
              "  <svg xmlns=\"http://www.w3.org/2000/svg\" height=\"24px\"viewBox=\"0 0 24 24\"\n",
              "       width=\"24px\">\n",
              "    <path d=\"M0 0h24v24H0V0z\" fill=\"none\"/>\n",
              "    <path d=\"M18.56 5.44l.94 2.06.94-2.06 2.06-.94-2.06-.94-.94-2.06-.94 2.06-2.06.94zm-11 1L8.5 8.5l.94-2.06 2.06-.94-2.06-.94L8.5 2.5l-.94 2.06-2.06.94zm10 10l.94 2.06.94-2.06 2.06-.94-2.06-.94-.94-2.06-.94 2.06-2.06.94z\"/><path d=\"M17.41 7.96l-1.37-1.37c-.4-.4-.92-.59-1.43-.59-.52 0-1.04.2-1.43.59L10.3 9.45l-7.72 7.72c-.78.78-.78 2.05 0 2.83L4 21.41c.39.39.9.59 1.41.59.51 0 1.02-.2 1.41-.59l7.78-7.78 2.81-2.81c.8-.78.8-2.07 0-2.86zM5.41 20L4 18.59l7.72-7.72 1.47 1.35L5.41 20z\"/>\n",
              "  </svg>\n",
              "      </button>\n",
              "      \n",
              "  <style>\n",
              "    .colab-df-container {\n",
              "      display:flex;\n",
              "      flex-wrap:wrap;\n",
              "      gap: 12px;\n",
              "    }\n",
              "\n",
              "    .colab-df-convert {\n",
              "      background-color: #E8F0FE;\n",
              "      border: none;\n",
              "      border-radius: 50%;\n",
              "      cursor: pointer;\n",
              "      display: none;\n",
              "      fill: #1967D2;\n",
              "      height: 32px;\n",
              "      padding: 0 0 0 0;\n",
              "      width: 32px;\n",
              "    }\n",
              "\n",
              "    .colab-df-convert:hover {\n",
              "      background-color: #E2EBFA;\n",
              "      box-shadow: 0px 1px 2px rgba(60, 64, 67, 0.3), 0px 1px 3px 1px rgba(60, 64, 67, 0.15);\n",
              "      fill: #174EA6;\n",
              "    }\n",
              "\n",
              "    [theme=dark] .colab-df-convert {\n",
              "      background-color: #3B4455;\n",
              "      fill: #D2E3FC;\n",
              "    }\n",
              "\n",
              "    [theme=dark] .colab-df-convert:hover {\n",
              "      background-color: #434B5C;\n",
              "      box-shadow: 0px 1px 3px 1px rgba(0, 0, 0, 0.15);\n",
              "      filter: drop-shadow(0px 1px 2px rgba(0, 0, 0, 0.3));\n",
              "      fill: #FFFFFF;\n",
              "    }\n",
              "  </style>\n",
              "\n",
              "      <script>\n",
              "        const buttonEl =\n",
              "          document.querySelector('#df-d73b1071-a17e-453a-9043-36af11f96b03 button.colab-df-convert');\n",
              "        buttonEl.style.display =\n",
              "          google.colab.kernel.accessAllowed ? 'block' : 'none';\n",
              "\n",
              "        async function convertToInteractive(key) {\n",
              "          const element = document.querySelector('#df-d73b1071-a17e-453a-9043-36af11f96b03');\n",
              "          const dataTable =\n",
              "            await google.colab.kernel.invokeFunction('convertToInteractive',\n",
              "                                                     [key], {});\n",
              "          if (!dataTable) return;\n",
              "\n",
              "          const docLinkHtml = 'Like what you see? Visit the ' +\n",
              "            '<a target=\"_blank\" href=https://colab.research.google.com/notebooks/data_table.ipynb>data table notebook</a>'\n",
              "            + ' to learn more about interactive tables.';\n",
              "          element.innerHTML = '';\n",
              "          dataTable['output_type'] = 'display_data';\n",
              "          await google.colab.output.renderOutput(dataTable, element);\n",
              "          const docLink = document.createElement('div');\n",
              "          docLink.innerHTML = docLinkHtml;\n",
              "          element.appendChild(docLink);\n",
              "        }\n",
              "      </script>\n",
              "    </div>\n",
              "  </div>\n",
              "  "
            ]
          },
          "metadata": {},
          "execution_count": 10
        }
      ]
    },
    {
      "cell_type": "code",
      "source": [
        "cd MyDrive "
      ],
      "metadata": {
        "colab": {
          "base_uri": "https://localhost:8080/"
        },
        "id": "JiDz_11i4BoI",
        "outputId": "a04ea9b0-6b69-4a9d-80bd-ee1611a2002f"
      },
      "execution_count": null,
      "outputs": [
        {
          "output_type": "stream",
          "name": "stdout",
          "text": [
            "[Errno 2] No such file or directory: 'MyDrive'\n",
            "/content\n"
          ]
        }
      ]
    },
    {
      "cell_type": "code",
      "source": [
        "cd /content/drive/MyDrive/modis2019/b11"
      ],
      "metadata": {
        "colab": {
          "base_uri": "https://localhost:8080/"
        },
        "id": "5Onyn6Mv4hlu",
        "outputId": "0f23a0eb-de4b-4b24-fbc6-c4ce82093248"
      },
      "execution_count": null,
      "outputs": [
        {
          "output_type": "stream",
          "name": "stdout",
          "text": [
            "/content/drive/MyDrive/modis2019/b11\n"
          ]
        }
      ]
    },
    {
      "cell_type": "code",
      "source": [
        "ls\n"
      ],
      "metadata": {
        "colab": {
          "base_uri": "https://localhost:8080/"
        },
        "id": "UEl1iHq_zI4I",
        "outputId": "2959ea77-4e81-491c-ffd6-3c9eae67c26a"
      },
      "execution_count": null,
      "outputs": [
        {
          "output_type": "stream",
          "name": "stdout",
          "text": [
            "10b.csv\n",
            "Filelist10.txt\n",
            "MYD04_L2.A2019310.0755.061.2019312153917.hdf\n",
            "MYD04_L2.A2019311.0700.061.2019316170256.hdf\n",
            "MYD04_L2.A2019311.0835.061.2019316170916.hdf\n",
            "MYD04_L2.A2019312.0740.061.2019316185019.hdf\n",
            "MYD04_L2.A2019312.0915.061.2019316184816.hdf\n",
            "MYD04_L2.A2019313.0820.061.2019316190221.hdf\n",
            "MYD04_L2.A2019313.0825.061.2019316190613.hdf\n",
            "MYD04_L2.A2019314.0725.061.2019316191714.hdf\n",
            "MYD04_L2.A2019314.0730.061.2019316191827.hdf\n",
            "MYD04_L2.A2019314.0905.061.2019316192152.hdf\n",
            "MYD04_L2.A2019315.0810.061.2019316192947.hdf\n",
            "MYD04_L2.A2019316.0715.061.2019316201940.hdf\n",
            "MYD04_L2.A2019316.0855.061.2019316201507.hdf\n",
            "MYD04_L2.A2019317.0755.061.2019317193133.hdf\n",
            "MYD04_L2.A2019317.0800.061.2019317193408.hdf\n",
            "MYD04_L2.A2019318.0705.061.2019323045046.hdf\n",
            "MYD04_L2.A2019318.0840.061.2019323045011.hdf\n",
            "MYD04_L2.A2019318.0845.061.2019323045053.hdf\n",
            "MYD04_L2.A2019319.0745.061.2019323063719.hdf\n",
            "MYD04_L2.A2019320.0830.061.2019323064419.hdf\n",
            "MYD04_L2.A2019321.0730.061.2019323065742.hdf\n",
            "MYD04_L2.A2019321.0735.061.2019323070135.hdf\n",
            "MYD04_L2.A2019321.0910.061.2019323065902.hdf\n",
            "MYD04_L2.A2019322.0815.061.2019323071031.hdf\n",
            "MYD04_L2.A2019322.0820.061.2019323071744.hdf\n",
            "MYD04_L2.A2019323.0720.061.2019323193136.hdf\n",
            "MYD04_L2.A2019323.0900.061.2019323193059.hdf\n",
            "MYD04_L2.A2019324.0805.061.2019324192606.hdf\n",
            "MYD04_L2.A2019325.0710.061.2019325200355.hdf\n",
            "MYD04_L2.A2019325.0845.061.2019325200222.hdf\n",
            "MYD04_L2.A2019325.0850.061.2019325201527.hdf\n",
            "MYD04_L2.A2019326.0750.061.2019326211842.hdf\n",
            "MYD04_L2.A2019326.0755.061.2019326211837.hdf\n",
            "MYD04_L2.A2019327.0700.061.2019327192721.hdf\n",
            "MYD04_L2.A2019327.0835.061.2019327193001.hdf\n",
            "MYD04_L2.A2019328.0740.061.2019329140530.hdf\n",
            "MYD04_L2.A2019328.0915.061.2019329150033.hdf\n",
            "MYD04_L2.A2019329.0820.061.2019329214540.hdf\n",
            "MYD04_L2.A2019329.0825.061.2019329215328.hdf\n",
            "MYD04_L2.A2019330.0725.061.2019330192922.hdf\n",
            "MYD04_L2.A2019330.0730.061.2019330193212.hdf\n",
            "MYD04_L2.A2019330.0905.061.2019330193016.hdf\n",
            "MYD04_L2.A2019331.0810.061.2019331192232.hdf\n",
            "MYD04_L2.A2019332.0715.061.2019332193100.hdf\n",
            "MYD04_L2.A2019332.0855.061.2019332192843.hdf\n",
            "MYD04_L2.A2019333.0755.061.2019333192723.hdf\n",
            "MYD04_L2.A2019333.0800.061.2019333193111.hdf\n",
            "MYD04_L2.A2019334.0705.061.2019334192340.hdf\n",
            "MYD04_L2.A2019334.0840.061.2019334191838.hdf\n",
            "MYD04_L2.A2019334.0845.061.2019334192448.hdf\n",
            "MYD04_L2.A2019335.0745.061.2019336205750.hdf\n",
            "MYD04_L2.A2019336.0830.061.2019336211820.hdf\n",
            "MYD04_L2.A2019337.0730.061.2019337192051.hdf\n",
            "MYD04_L2.A2019337.0735.061.2019337192043.hdf\n",
            "MYD04_L2.A2019337.0910.061.2019337191827.hdf\n",
            "MYD04_L2.A2019338.0815.061.2019338192151.hdf\n",
            "MYD04_L2.A2019338.0820.061.2019338192426.hdf\n",
            "MYD04_L2.A2019339.0720.061.2019344181022.hdf\n",
            "MYD04_L2.A2019339.0900.061.2019344174941.hdf\n",
            "MYD04_L2.A2019340.0805.061.2019345020706.hdf\n",
            "MYD04_L2.A2019341.0845.061.2019345021824.hdf\n",
            "MYD04_L2.A2019341.0850.061.2019345022044.hdf\n",
            "MYD04_L2.A2019342.0750.061.2019345023252.hdf\n",
            "MYD04_L2.A2019342.0755.061.2019345023856.hdf\n",
            "MYD04_L2.A2019343.0700.061.2019345024909.hdf\n",
            "MYD04_L2.A2019343.0835.061.2019345025003.hdf\n",
            "MYD04_L2.A2019344.0740.061.2019345015130.hdf\n",
            "MYD04_L2.A2019344.0915.061.2019345015005.hdf\n",
            "MYD04_L2.A2019345.0820.061.2019345192602.hdf\n",
            "MYD04_L2.A2019345.0825.061.2019345192743.hdf\n",
            "MYD04_L2.A2019346.0725.061.2019346193850.hdf\n",
            "MYD04_L2.A2019346.0730.061.2019346194112.hdf\n",
            "MYD04_L2.A2019346.0905.061.2019346193637.hdf\n",
            "MYD04_L2.A2019347.0810.061.2019347192337.hdf\n",
            "MYD04_L2.A2019348.0715.061.2019348192714.hdf\n",
            "MYD04_L2.A2019348.0855.061.2019348192702.hdf\n",
            "MYD04_L2.A2019349.0755.061.2019349185737.hdf\n",
            "MYD04_L2.A2019349.0800.061.2019349185942.hdf\n",
            "MYD04_L2.A2019350.0705.061.2019350185912.hdf\n",
            "MYD04_L2.A2019350.0840.061.2019350185729.hdf\n",
            "MYD04_L2.A2019350.0845.061.2019350185900.hdf\n",
            "MYD04_L2.A2019351.0745.061.2019351203253.hdf\n",
            "MYD04_L2.A2019352.0830.061.2019352193735.hdf\n",
            "MYD04_L2.A2019353.0730.061.2019353192054.hdf\n",
            "MYD04_L2.A2019353.0735.061.2019353192254.hdf\n",
            "MYD04_L2.A2019353.0910.061.2019353192032.hdf\n"
          ]
        }
      ]
    },
    {
      "cell_type": "markdown",
      "source": [
        "**Finding AOD at a particular location**"
      ],
      "metadata": {
        "id": "wnjosiH9PxDD"
      }
    },
    {
      "cell_type": "code",
      "source": [
        ""
      ],
      "metadata": {
        "id": "Tr7YCfGCzgQu"
      },
      "execution_count": null,
      "outputs": []
    },
    {
      "cell_type": "code",
      "source": [
        "listfive=[]\n",
        "listtthre=[]\n",
        "listnm=[]\n",
        "try:\n",
        "\tfileList=open('Filelist10.txt','r')\n",
        "except:\n",
        "\tprint('Did not find a text file containing file names (perhaps name does not match)')\n",
        "\tsys.exit()\n",
        "\n",
        "#loops through all files listed in the text file\n",
        "for FILE_NAME in fileList:\n",
        "\tFILE_NAME=FILE_NAME.strip();listnm.append(FILE_NAME)\n",
        "\tuser_input=input('\\nWould you like to process\\n' + FILE_NAME + '\\n\\n(Y/N)')\n",
        "\tif(user_input == 'N' or user_input == 'n'):\n",
        "\t\tcontinue\n",
        "\telse:\n",
        "\t\tif '3K' in FILE_NAME: #then this is a 3km MODIS file\n",
        "\t\t\tuserInput=int(input('Which SDS would you like to view? (Type the number and press enter) \\n(1) Optical_Depth_Land_And_Ocean \\n(2) Land_Ocean_Quality_Flag \\n(3) Image_Optical_Depth_Land_And_Ocean \\n(4) Land_Sea_Flag \\n'))\n",
        "\t\t\twhile userInput not in {1,2,3,4}:#repeats the question if the user does not choose one of the options\n",
        "\t\t\t\tprint('Please try again.')\n",
        "\t\t\t\tuserInput=int(input('Which SDS would you like to view? (Type the number and press enter) \\n(1) Optical_Depth_Land_And_Ocean \\n(2) Land_Ocean_Quality_Flag \\n(3) Image_Optical_Depth_Land_And_Ocean \\n(4) Land_Sea_Flag \\n'))\n",
        "\t\t\t#Uses a Python dictionary to choose the SDS indicated by the user\n",
        "\t\t\tdataFields=dict([(1,'Optical_Depth_Land_And_Ocean'),(2,'Land_Ocean_Quality_Flag'),(3,'Image_Optical_Depth_Land_And_Ocean'),(4,'Land_Sea_Flag')])\n",
        "\t\telif 'L2' in FILE_NAME:#Same as above but for 10km MODIS file\n",
        "\t\t\tuserInput=1\n",
        "\t\t\twhile userInput not in {1,2,3}:\n",
        "\t\t\t\tprint('Please try again.')\n",
        "\t\t\t\tuserInput=int(input('Which SDS would you like to view? (Type the number and press enter) \\n(1) Deep_Blue_Aerosol_Optical_Depth_550_Land \\n(2) AOD_550_Dark_Target_Deep_Blue_Combined \\n(3) AOD_550_Dark_Target_Deep_Blue_Combined_QA_Flag \\n'))\n",
        "\t\t\tdataFields=dict([(1,'Deep_Blue_Aerosol_Optical_Depth_550_Land'),(2,'AOD_550_Dark_Target_Deep_Blue_Combined'),(3,'AOD_550_Dark_Target_Deep_Blue_Combined_QA_Flag')])\n",
        "\t\tSDS_NAME=dataFields[int(userInput)] # The name of the sds to read\n",
        "\t\ttry:\n",
        "\t\t\t# open the hdf file for reading\n",
        "\t\t\thdf=SD.SD(FILE_NAME)\n",
        "\t\texcept:\n",
        "\t\t\tprint('Unable to open file: \\n' + FILE_NAME + '\\n Skipping...'),listfive.append(0)\n",
        "\t\t\tcontinue\n",
        "\t\t\n",
        "\t\t# Get lat and lon info\n",
        "\t\tlat = hdf.select('Latitude')\n",
        "\t\tlatitude = lat[:,:]\n",
        "\t\tmin_lat=latitude.min()\n",
        "\t\tmax_lat=latitude.max()\n",
        "\t\tlon = hdf.select('Longitude')\n",
        "\t\tlongitude = lon[:,:]\n",
        "\t\tmin_lon=longitude.min()\n",
        "\t\tmax_lon=longitude.max()\n",
        "\t\t\n",
        "\t\t#get SDS, or exit program if SDS is not in the file\n",
        "\t\ttry:\n",
        "\t\t\tsds=hdf.select(SDS_NAME)\n",
        "\t\texcept:\n",
        "\t\t\tprint('Sorry, your MODIS hdf file does not contain the SDS:',SDS_NAME,'. Please try again with the correct file type.')\n",
        "\t\t\tcontinue\n",
        "\t\t#get scale factor and fill value for data field\n",
        "\t\tattributes=sds.attributes()\n",
        "\t\tscale_factor=attributes['scale_factor']\n",
        "\t\tfillvalue=attributes['_FillValue']\n",
        "\t\t\n",
        "\t\t#get SDS data\n",
        "\t\tdata=sds.get()\n",
        "\t\t#Print the range of latitude and longitude found in the file, then ask for a lat and lon\n",
        "\t\tprint('The range of latitude in this file is: ',min_lat,' to ',max_lat, 'degrees \\nThe range of longitude in this file is: ',min_lon, ' to ',max_lon,' degrees')\n",
        "\t\tuser_lat=13\n",
        "\t\tuser_lon=80.21\n",
        "\t\t#Continues to ask for lat and lon until the user enters valid values\n",
        "\t\twhile user_lat < min_lat or user_lat > max_lat:\n",
        "\t\t\tuser_lat=float(input('The latitude you entered is out of range. Please enter a valid latitude: '))\n",
        "\t\twhile user_lon < min_lon or user_lon > max_lon:\n",
        "\t\t\tuser_lon=float(input('The longitude you entered is out of range. Please enter a valid longitude: '))\n",
        "\t\t\t\n",
        "\t\t#calculation to find nearest point in data to entered location (haversine formula)\n",
        "\t\t#The Haversine formula calculates the shortest distance between two points on a sphere using their latitudes and longitudes measured along the surface.\n",
        "\t\tR=6371000#radius of the earth in meters\n",
        "\t\tlat1=np.radians(user_lat)\n",
        "\t\tlat2=np.radians(latitude)\n",
        "\t\tdelta_lat=np.radians(latitude-user_lat)\n",
        "\t\tdelta_lon=np.radians(longitude-user_lon)\n",
        "\t\ta=(np.sin(delta_lat/2))*(np.sin(delta_lat/2))+(np.cos(lat1))*(np.cos(lat2))*(np.sin(delta_lon/2))*(np.sin(delta_lon/2))\n",
        "\t\tc=2*np.arctan2(np.sqrt(a),np.sqrt(1-a))\n",
        "\t\td=R*c\n",
        "\t\t#gets (and then prints) the x,y location of the nearest point in data to entered location, accounting for no data values\n",
        "\t\tx,y=np.unravel_index(d.argmin(),d.shape)\n",
        "\t\tprint('\\nThe nearest pixel to your entered location is at: \\nLatitude:',latitude[x,y],' Longitude:',longitude[x,y])\n",
        "\t\tif data[x,y]==fillvalue:\n",
        "\t\t\tprint('The value of ',SDS_NAME,'at this pixel is',fillvalue,',(No Value)\\n')\n",
        "\t\telse:\n",
        "\t\t\tprint('The value of ', SDS_NAME,'at this pixel is ',round(data[x,y]*scale_factor,3))\n",
        "\t\t\t\n",
        "\t\t#calculates mean, median, stdev in a 3x3 grid around nearest point to entered location\n",
        "\t\tif x < 1:\n",
        "\t\t\tx+=1\n",
        "\t\tif x > data.shape[0]-2:\n",
        "\t\t\tx-=2\n",
        "\t\tif y < 1:\n",
        "\t\t\ty+=1\n",
        "\t\tif y > data.shape[1]-2:\n",
        "\t\t\ty-=2\n",
        "\t\tthree_by_three=data[x-1:x+2,y-1:y+2]\n",
        "\t\tthree_by_three=three_by_three.astype(float)\n",
        "\t\tthree_by_three[three_by_three==float(fillvalue)]=np.nan\n",
        "\t\tnnan=np.count_nonzero(~np.isnan(three_by_three))\n",
        "\t\tif nnan == 0:\n",
        "\t\t\tprint ('\\nThere are no valid pixels in a 3x3 grid centered at your entered location.');listtthre.append(0)\n",
        "\t\telse:\n",
        "\t\t\tthree_by_three=three_by_three*scale_factor\n",
        "\t\t\tthree_by_three_average=np.nanmean(three_by_three);listtthre.append(three_by_three_average)\n",
        "\t\t\tthree_by_three_std=np.nanstd(three_by_three)\n",
        "\t\t\tthree_by_three_median=np.nanmedian(three_by_three)\n",
        "\t\t\tif nnan == 1:\n",
        "\t\t\t\tnpixels='is'\n",
        "\t\t\t\tmpixels='pixel'\n",
        "\t\t\telse:\n",
        "\t\t\t\tnpixels='are'\n",
        "\t\t\t\tmpixels='pixels'\n",
        "\t\t\tprint('\\nThere',npixels,nnan,'valid',mpixels,'in a 3x3 grid centered at your entered location.')\n",
        "\t\t\tprint('\\nThe average value in this grid is: ',round(three_by_three_average,3),' \\nThe median value in this grid is: ',round(three_by_three_median,3),'\\nThe standard deviation in this grid is: ',round(three_by_three_std,3))\n",
        "\t\t\n",
        "\t\t#calculates mean, median, stdev in a 5x5 grid around nearest point to entered location\n",
        "\t\tif x < 2:\n",
        "\t\t\tx+=1\n",
        "\t\tif x > data.shape[0]-3:\n",
        "\t\t\tx-=1\n",
        "\t\tif y < 2:\n",
        "\t\t\ty+=1\n",
        "\t\tif y > data.shape[1]-3:\n",
        "\t\t\ty-=1\n",
        "\t\tfive_by_five=data[x-2:x+3,y-2:y+3]\n",
        "\t\tfive_by_five=five_by_five.astype(float)\n",
        "\t\tfive_by_five[five_by_five==float(fillvalue)]=np.nan\n",
        "\t\tnnan=np.count_nonzero(~np.isnan(five_by_five))\n",
        "\t\tif nnan == 0:\n",
        "\t\t\tprint ('There are no valid pixels in a 5x5 grid centered at your entered location. \\n');listfive.append(0)\n",
        "\t\telse:\n",
        "\t\t\tfive_by_five=five_by_five*scale_factor\n",
        "\t\t\tfive_by_five_average=np.nanmean(five_by_five);listfive.append(five_by_five_average)\n",
        "\t\t\tfive_by_five_std=np.nanstd(five_by_five)\n",
        "\t\t\tfive_by_five_median=np.nanmedian(five_by_five)\n",
        "\t\t\tif nnan == 1:\n",
        "\t\t\t\tnpixels='is'\n",
        "\t\t\t\tmpixels='pixel'\n",
        "\t\t\telse:\n",
        "\t\t\t\tnpixels='are'\n",
        "\t\t\t\tmpixels='pixels'\n",
        "\t\t\tprint('\\nThere',npixels,nnan,' valid',mpixels,' in a 5x5 grid centered at your entered location. \\n')\n",
        "\t\t\tprint('The average value in this grid is: ',round(five_by_five_average,3),' \\nThe median value in this grid is: ',round(five_by_five_median,3),'\\nThe standard deviation in this grid is: ',round(five_by_five_std,3))\n",
        "print('\\nAll valid files have been processed')"
      ],
      "metadata": {
        "id": "UC80qT-B13EJ",
        "colab": {
          "base_uri": "https://localhost:8080/",
          "height": 1000
        },
        "outputId": "f15a425c-4c62-49d3-fda2-51f25c8b1fd3"
      },
      "execution_count": null,
      "outputs": [
        {
          "output_type": "stream",
          "name": "stdout",
          "text": [
            "\n",
            "Would you like to process\n",
            "MYD04_L2.A2019310.0755.061.2019312153917.hdf\n",
            "\n",
            "(Y/N)y\n",
            "The range of latitude in this file is:  12.604235  to  33.50833 degrees \n",
            "The range of longitude in this file is:  67.17195  to  93.51509  degrees\n",
            "\n",
            "The nearest pixel to your entered location is at: \n",
            "Latitude: 13.857637  Longitude: 80.06864\n",
            "The value of  Deep_Blue_Aerosol_Optical_Depth_550_Land at this pixel is  1.31\n",
            "\n",
            "There are 8 valid pixels in a 3x3 grid centered at your entered location.\n",
            "\n",
            "The average value in this grid is:  1.212  \n",
            "The median value in this grid is:  1.266 \n",
            "The standard deviation in this grid is:  0.151\n",
            "\n",
            "There are 17  valid pixels  in a 5x5 grid centered at your entered location. \n",
            "\n",
            "The average value in this grid is:  1.097  \n",
            "The median value in this grid is:  1.078 \n",
            "The standard deviation in this grid is:  0.17\n",
            "\n",
            "Would you like to process\n",
            "MYD04_L2.A2019311.0700.061.2019316170256.hdf\n",
            "\n",
            "(Y/N)y\n",
            "The range of latitude in this file is:  14.871569  to  35.72174 degrees \n",
            "The range of longitude in this file is:  80.2653  to  107.03014  degrees\n",
            "The latitude you entered is out of range. Please enter a valid latitude: 14.88\n",
            "The longitude you entered is out of range. Please enter a valid longitude: 81\n",
            "\n",
            "The nearest pixel to your entered location is at: \n",
            "Latitude: 16.263958  Longitude: 85.69858\n",
            "The value of  Deep_Blue_Aerosol_Optical_Depth_550_Land at this pixel is -9999 ,(No Value)\n",
            "\n",
            "\n",
            "There are no valid pixels in a 3x3 grid centered at your entered location.\n",
            "There are no valid pixels in a 5x5 grid centered at your entered location. \n",
            "\n",
            "\n",
            "Would you like to process\n",
            "MYD04_L2.A2019311.0835.061.2019316170916.hdf\n",
            "\n",
            "(Y/N)y\n",
            "The range of latitude in this file is:  1.0603182  to  21.772614 degrees \n",
            "The range of longitude in this file is:  60.257996  to  84.889786  degrees\n",
            "\n",
            "The nearest pixel to your entered location is at: \n",
            "Latitude: 12.969198  Longitude: 80.18992\n",
            "The value of  Deep_Blue_Aerosol_Optical_Depth_550_Land at this pixel is -9999 ,(No Value)\n",
            "\n",
            "\n",
            "There are no valid pixels in a 3x3 grid centered at your entered location.\n",
            "There are no valid pixels in a 5x5 grid centered at your entered location. \n",
            "\n",
            "\n",
            "Would you like to process\n",
            "MYD04_L2.A2019312.0915.061.2019316184816.hdf\n",
            "\n",
            "(Y/N)y\n",
            "The range of latitude in this file is:  -10.648094  to  10.0359955 degrees \n",
            "The range of longitude in this file is:  52.5528  to  76.69887  degrees\n",
            "The latitude you entered is out of range. Please enter a valid latitude: 10\n",
            "The longitude you entered is out of range. Please enter a valid longitude: 76\n",
            "\n",
            "The nearest pixel to your entered location is at: \n",
            "Latitude: 9.417118  Longitude: 72.996086\n",
            "The value of  Deep_Blue_Aerosol_Optical_Depth_550_Land at this pixel is -9999 ,(No Value)\n",
            "\n",
            "\n",
            "There are no valid pixels in a 3x3 grid centered at your entered location.\n",
            "There are no valid pixels in a 5x5 grid centered at your entered location. \n",
            "\n",
            "\n",
            "Would you like to process\n",
            "MYD04_L2.A2019312.0740.061.2019316185019.hdf\n",
            "\n",
            "(Y/N)y\n",
            "The range of latitude in this file is:  3.243728  to  23.97031 degrees \n",
            "The range of longitude in this file is:  73.50228  to  98.353935  degrees\n",
            "\n",
            "The nearest pixel to your entered location is at: \n",
            "Latitude: 13.028505  Longitude: 80.25864\n",
            "The value of  Deep_Blue_Aerosol_Optical_Depth_550_Land at this pixel is  1.537\n",
            "\n",
            "There are 6 valid pixels in a 3x3 grid centered at your entered location.\n",
            "\n",
            "The average value in this grid is:  1.26  \n",
            "The median value in this grid is:  1.361 \n",
            "The standard deviation in this grid is:  0.233\n",
            "\n",
            "There are 15  valid pixels  in a 5x5 grid centered at your entered location. \n",
            "\n",
            "The average value in this grid is:  1.138  \n",
            "The median value in this grid is:  1.054 \n",
            "The standard deviation in this grid is:  0.195\n",
            "\n",
            "Would you like to process\n",
            "MYD04_L2.A2019313.0820.061.2019316190221.hdf\n",
            "\n",
            "(Y/N)y\n",
            "The range of latitude in this file is:  -8.451443  to  12.319785 degrees \n",
            "The range of longitude in this file is:  65.90193  to  90.075485  degrees\n",
            "The latitude you entered is out of range. Please enter a valid latitude: 12\n",
            "\n",
            "The nearest pixel to your entered location is at: \n",
            "Latitude: 11.608134  Longitude: 80.329315\n",
            "The value of  Deep_Blue_Aerosol_Optical_Depth_550_Land at this pixel is -9999 ,(No Value)\n",
            "\n",
            "\n",
            "There are no valid pixels in a 3x3 grid centered at your entered location.\n",
            "There are no valid pixels in a 5x5 grid centered at your entered location. \n",
            "\n",
            "\n",
            "Would you like to process\n",
            "MYD04_L2.A2019313.0825.061.2019316190613.hdf\n",
            "\n",
            "(Y/N)y\n",
            "The range of latitude in this file is:  9.484373  to  30.261652 degrees \n",
            "The range of longitude in this file is:  60.60579  to  86.34831  degrees\n",
            "\n",
            "The nearest pixel to your entered location is at: \n",
            "Latitude: 12.965741  Longitude: 80.20147\n",
            "The value of  Deep_Blue_Aerosol_Optical_Depth_550_Land at this pixel is -9999 ,(No Value)\n",
            "\n",
            "\n",
            "There is 1 valid pixel in a 3x3 grid centered at your entered location.\n",
            "\n",
            "The average value in this grid is:  2.345  \n",
            "The median value in this grid is:  2.345 \n",
            "The standard deviation in this grid is:  0.0\n",
            "\n",
            "There are 4  valid pixels  in a 5x5 grid centered at your entered location. \n",
            "\n",
            "The average value in this grid is:  2.117  \n",
            "The median value in this grid is:  2.1 \n",
            "The standard deviation in this grid is:  0.181\n"
          ]
        },
        {
          "output_type": "error",
          "ename": "KeyboardInterrupt",
          "evalue": "ignored",
          "traceback": [
            "\u001b[0;31m---------------------------------------------------------------------------\u001b[0m",
            "\u001b[0;31mKeyboardInterrupt\u001b[0m                         Traceback (most recent call last)",
            "\u001b[0;32m/usr/local/lib/python3.7/dist-packages/ipykernel/kernelbase.py\u001b[0m in \u001b[0;36m_input_request\u001b[0;34m(self, prompt, ident, parent, password)\u001b[0m\n\u001b[1;32m    728\u001b[0m             \u001b[0;32mtry\u001b[0m\u001b[0;34m:\u001b[0m\u001b[0;34m\u001b[0m\u001b[0;34m\u001b[0m\u001b[0m\n\u001b[0;32m--> 729\u001b[0;31m                 \u001b[0mident\u001b[0m\u001b[0;34m,\u001b[0m \u001b[0mreply\u001b[0m \u001b[0;34m=\u001b[0m \u001b[0mself\u001b[0m\u001b[0;34m.\u001b[0m\u001b[0msession\u001b[0m\u001b[0;34m.\u001b[0m\u001b[0mrecv\u001b[0m\u001b[0;34m(\u001b[0m\u001b[0mself\u001b[0m\u001b[0;34m.\u001b[0m\u001b[0mstdin_socket\u001b[0m\u001b[0;34m,\u001b[0m \u001b[0;36m0\u001b[0m\u001b[0;34m)\u001b[0m\u001b[0;34m\u001b[0m\u001b[0;34m\u001b[0m\u001b[0m\n\u001b[0m\u001b[1;32m    730\u001b[0m             \u001b[0;32mexcept\u001b[0m \u001b[0mException\u001b[0m\u001b[0;34m:\u001b[0m\u001b[0;34m\u001b[0m\u001b[0;34m\u001b[0m\u001b[0m\n",
            "\u001b[0;32m/usr/local/lib/python3.7/dist-packages/jupyter_client/session.py\u001b[0m in \u001b[0;36mrecv\u001b[0;34m(self, socket, mode, content, copy)\u001b[0m\n\u001b[1;32m    802\u001b[0m         \u001b[0;32mtry\u001b[0m\u001b[0;34m:\u001b[0m\u001b[0;34m\u001b[0m\u001b[0;34m\u001b[0m\u001b[0m\n\u001b[0;32m--> 803\u001b[0;31m             \u001b[0mmsg_list\u001b[0m \u001b[0;34m=\u001b[0m \u001b[0msocket\u001b[0m\u001b[0;34m.\u001b[0m\u001b[0mrecv_multipart\u001b[0m\u001b[0;34m(\u001b[0m\u001b[0mmode\u001b[0m\u001b[0;34m,\u001b[0m \u001b[0mcopy\u001b[0m\u001b[0;34m=\u001b[0m\u001b[0mcopy\u001b[0m\u001b[0;34m)\u001b[0m\u001b[0;34m\u001b[0m\u001b[0;34m\u001b[0m\u001b[0m\n\u001b[0m\u001b[1;32m    804\u001b[0m         \u001b[0;32mexcept\u001b[0m \u001b[0mzmq\u001b[0m\u001b[0;34m.\u001b[0m\u001b[0mZMQError\u001b[0m \u001b[0;32mas\u001b[0m \u001b[0me\u001b[0m\u001b[0;34m:\u001b[0m\u001b[0;34m\u001b[0m\u001b[0;34m\u001b[0m\u001b[0m\n",
            "\u001b[0;32m/usr/local/lib/python3.7/dist-packages/zmq/sugar/socket.py\u001b[0m in \u001b[0;36mrecv_multipart\u001b[0;34m(self, flags, copy, track)\u001b[0m\n\u001b[1;32m    624\u001b[0m         \"\"\"\n\u001b[0;32m--> 625\u001b[0;31m         \u001b[0mparts\u001b[0m \u001b[0;34m=\u001b[0m \u001b[0;34m[\u001b[0m\u001b[0mself\u001b[0m\u001b[0;34m.\u001b[0m\u001b[0mrecv\u001b[0m\u001b[0;34m(\u001b[0m\u001b[0mflags\u001b[0m\u001b[0;34m,\u001b[0m \u001b[0mcopy\u001b[0m\u001b[0;34m=\u001b[0m\u001b[0mcopy\u001b[0m\u001b[0;34m,\u001b[0m \u001b[0mtrack\u001b[0m\u001b[0;34m=\u001b[0m\u001b[0mtrack\u001b[0m\u001b[0;34m)\u001b[0m\u001b[0;34m]\u001b[0m\u001b[0;34m\u001b[0m\u001b[0;34m\u001b[0m\u001b[0m\n\u001b[0m\u001b[1;32m    626\u001b[0m         \u001b[0;31m# have first part already, only loop while more to receive\u001b[0m\u001b[0;34m\u001b[0m\u001b[0;34m\u001b[0m\u001b[0;34m\u001b[0m\u001b[0m\n",
            "\u001b[0;32mzmq/backend/cython/socket.pyx\u001b[0m in \u001b[0;36mzmq.backend.cython.socket.Socket.recv\u001b[0;34m()\u001b[0m\n",
            "\u001b[0;32mzmq/backend/cython/socket.pyx\u001b[0m in \u001b[0;36mzmq.backend.cython.socket.Socket.recv\u001b[0;34m()\u001b[0m\n",
            "\u001b[0;32mzmq/backend/cython/socket.pyx\u001b[0m in \u001b[0;36mzmq.backend.cython.socket._recv_copy\u001b[0;34m()\u001b[0m\n",
            "\u001b[0;32m/usr/local/lib/python3.7/dist-packages/zmq/backend/cython/checkrc.pxd\u001b[0m in \u001b[0;36mzmq.backend.cython.checkrc._check_rc\u001b[0;34m()\u001b[0m\n",
            "\u001b[0;31mKeyboardInterrupt\u001b[0m: ",
            "\nDuring handling of the above exception, another exception occurred:\n",
            "\u001b[0;31mKeyboardInterrupt\u001b[0m                         Traceback (most recent call last)",
            "\u001b[0;32m<ipython-input-7-2dc64191f70e>\u001b[0m in \u001b[0;36m<module>\u001b[0;34m()\u001b[0m\n\u001b[1;32m     11\u001b[0m \u001b[0;32mfor\u001b[0m \u001b[0mFILE_NAME\u001b[0m \u001b[0;32min\u001b[0m \u001b[0mfileList\u001b[0m\u001b[0;34m:\u001b[0m\u001b[0;34m\u001b[0m\u001b[0;34m\u001b[0m\u001b[0m\n\u001b[1;32m     12\u001b[0m         \u001b[0mFILE_NAME\u001b[0m\u001b[0;34m=\u001b[0m\u001b[0mFILE_NAME\u001b[0m\u001b[0;34m.\u001b[0m\u001b[0mstrip\u001b[0m\u001b[0;34m(\u001b[0m\u001b[0;34m)\u001b[0m\u001b[0;34m;\u001b[0m\u001b[0mlistnm\u001b[0m\u001b[0;34m.\u001b[0m\u001b[0mappend\u001b[0m\u001b[0;34m(\u001b[0m\u001b[0mFILE_NAME\u001b[0m\u001b[0;34m)\u001b[0m\u001b[0;34m\u001b[0m\u001b[0;34m\u001b[0m\u001b[0m\n\u001b[0;32m---> 13\u001b[0;31m         \u001b[0muser_input\u001b[0m\u001b[0;34m=\u001b[0m\u001b[0minput\u001b[0m\u001b[0;34m(\u001b[0m\u001b[0;34m'\\nWould you like to process\\n'\u001b[0m \u001b[0;34m+\u001b[0m \u001b[0mFILE_NAME\u001b[0m \u001b[0;34m+\u001b[0m \u001b[0;34m'\\n\\n(Y/N)'\u001b[0m\u001b[0;34m)\u001b[0m\u001b[0;34m\u001b[0m\u001b[0;34m\u001b[0m\u001b[0m\n\u001b[0m\u001b[1;32m     14\u001b[0m         \u001b[0;32mif\u001b[0m\u001b[0;34m(\u001b[0m\u001b[0muser_input\u001b[0m \u001b[0;34m==\u001b[0m \u001b[0;34m'N'\u001b[0m \u001b[0;32mor\u001b[0m \u001b[0muser_input\u001b[0m \u001b[0;34m==\u001b[0m \u001b[0;34m'n'\u001b[0m\u001b[0;34m)\u001b[0m\u001b[0;34m:\u001b[0m\u001b[0;34m\u001b[0m\u001b[0;34m\u001b[0m\u001b[0m\n\u001b[1;32m     15\u001b[0m                 \u001b[0;32mcontinue\u001b[0m\u001b[0;34m\u001b[0m\u001b[0;34m\u001b[0m\u001b[0m\n",
            "\u001b[0;32m/usr/local/lib/python3.7/dist-packages/ipykernel/kernelbase.py\u001b[0m in \u001b[0;36mraw_input\u001b[0;34m(self, prompt)\u001b[0m\n\u001b[1;32m    702\u001b[0m             \u001b[0mself\u001b[0m\u001b[0;34m.\u001b[0m\u001b[0m_parent_ident\u001b[0m\u001b[0;34m,\u001b[0m\u001b[0;34m\u001b[0m\u001b[0;34m\u001b[0m\u001b[0m\n\u001b[1;32m    703\u001b[0m             \u001b[0mself\u001b[0m\u001b[0;34m.\u001b[0m\u001b[0m_parent_header\u001b[0m\u001b[0;34m,\u001b[0m\u001b[0;34m\u001b[0m\u001b[0;34m\u001b[0m\u001b[0m\n\u001b[0;32m--> 704\u001b[0;31m             \u001b[0mpassword\u001b[0m\u001b[0;34m=\u001b[0m\u001b[0;32mFalse\u001b[0m\u001b[0;34m,\u001b[0m\u001b[0;34m\u001b[0m\u001b[0;34m\u001b[0m\u001b[0m\n\u001b[0m\u001b[1;32m    705\u001b[0m         )\n\u001b[1;32m    706\u001b[0m \u001b[0;34m\u001b[0m\u001b[0m\n",
            "\u001b[0;32m/usr/local/lib/python3.7/dist-packages/ipykernel/kernelbase.py\u001b[0m in \u001b[0;36m_input_request\u001b[0;34m(self, prompt, ident, parent, password)\u001b[0m\n\u001b[1;32m    732\u001b[0m             \u001b[0;32mexcept\u001b[0m \u001b[0mKeyboardInterrupt\u001b[0m\u001b[0;34m:\u001b[0m\u001b[0;34m\u001b[0m\u001b[0;34m\u001b[0m\u001b[0m\n\u001b[1;32m    733\u001b[0m                 \u001b[0;31m# re-raise KeyboardInterrupt, to truncate traceback\u001b[0m\u001b[0;34m\u001b[0m\u001b[0;34m\u001b[0m\u001b[0;34m\u001b[0m\u001b[0m\n\u001b[0;32m--> 734\u001b[0;31m                 \u001b[0;32mraise\u001b[0m \u001b[0mKeyboardInterrupt\u001b[0m\u001b[0;34m\u001b[0m\u001b[0;34m\u001b[0m\u001b[0m\n\u001b[0m\u001b[1;32m    735\u001b[0m             \u001b[0;32melse\u001b[0m\u001b[0;34m:\u001b[0m\u001b[0;34m\u001b[0m\u001b[0;34m\u001b[0m\u001b[0m\n\u001b[1;32m    736\u001b[0m                 \u001b[0;32mbreak\u001b[0m\u001b[0;34m\u001b[0m\u001b[0;34m\u001b[0m\u001b[0m\n",
            "\u001b[0;31mKeyboardInterrupt\u001b[0m: "
          ]
        }
      ]
    },
    {
      "cell_type": "code",
      "source": [
        "listfive"
      ],
      "metadata": {
        "colab": {
          "base_uri": "https://localhost:8080/"
        },
        "id": "qvDeBKDaxRoC",
        "outputId": "a63c80be-04d5-4105-93fd-969e5d3b34a8"
      },
      "execution_count": null,
      "outputs": [
        {
          "output_type": "execute_result",
          "data": {
            "text/plain": [
              "[0,\n",
              " 0.4678571650791647,\n",
              " 0.32326317324891296,\n",
              " 0,\n",
              " 0.6438571734387162,\n",
              " 0.14109091579236768,\n",
              " 0.4968750236002961,\n",
              " 0.5288333584515689,\n",
              " 0,\n",
              " 0.6478889196619598,\n",
              " 0.48957145182482364,\n",
              " 0.37260001769755036,\n",
              " 0.6036666953392947,\n",
              " 0,\n",
              " 0.9350526759915642,\n",
              " 0,\n",
              " 1.2016667237427707,\n",
              " 0.9260000439826399,\n",
              " 0.3566666836074243,\n",
              " 0.4944000234827399,\n",
              " 0.5936666948643202,\n",
              " 0,\n",
              " 0.9110000432701781,\n",
              " 0.25366667871518683,\n",
              " 0,\n",
              " 0,\n",
              " 0,\n",
              " 0.15766667415543148,\n",
              " 0.22350001061568037,\n",
              " 0.328400015598163,\n",
              " 1.308500062150415,\n",
              " 0,\n",
              " 0,\n",
              " 0,\n",
              " 0.27433334636346746,\n",
              " 0,\n",
              " 0,\n",
              " 0,\n",
              " 0,\n",
              " 0,\n",
              " 0,\n",
              " 0,\n",
              " 0,\n",
              " 0,\n",
              " 0,\n",
              " 0,\n",
              " 0,\n",
              " 0,\n",
              " 0,\n",
              " 0.17800000845454633,\n",
              " 0,\n",
              " 0,\n",
              " 0.3760000178590417,\n",
              " 0,\n",
              " 0,\n",
              " 0,\n",
              " 0.39300001866649836,\n",
              " 0.8095000384491868,\n",
              " 0,\n",
              " 0,\n",
              " 0,\n",
              " 0,\n",
              " 0.11180000531021506,\n",
              " 0.1225555613766321,\n",
              " 0.45775002174195834,\n",
              " 0.20023077874122044,\n",
              " 0,\n",
              " 0.5928750281600514,\n",
              " 0.8674375412010704,\n",
              " 0,\n",
              " 0.6460800306871534,\n",
              " 0.33112001572735605,\n",
              " 0.8013889269528186,\n",
              " 0,\n",
              " 0,\n",
              " 0,\n",
              " 0,\n",
              " 0,\n",
              " 0,\n",
              " 0,\n",
              " 0,\n",
              " 0,\n",
              " 0,\n",
              " 0,\n",
              " 0,\n",
              " 0,\n",
              " 0,\n",
              " 0,\n",
              " 0,\n",
              " 0,\n",
              " 0]"
            ]
          },
          "metadata": {},
          "execution_count": 29
        }
      ]
    },
    {
      "cell_type": "code",
      "source": [
        "listnm"
      ],
      "metadata": {
        "colab": {
          "base_uri": "https://localhost:8080/",
          "height": 166
        },
        "id": "NtRNVZyYxU13",
        "outputId": "d22ef1c8-a81b-48c9-a925-cb6a10f172b6"
      },
      "execution_count": null,
      "outputs": [
        {
          "output_type": "error",
          "ename": "NameError",
          "evalue": "ignored",
          "traceback": [
            "\u001b[0;31m---------------------------------------------------------------------------\u001b[0m",
            "\u001b[0;31mNameError\u001b[0m                                 Traceback (most recent call last)",
            "\u001b[0;32m<ipython-input-1-e239603d9bdc>\u001b[0m in \u001b[0;36m<module>\u001b[0;34m()\u001b[0m\n\u001b[0;32m----> 1\u001b[0;31m \u001b[0mlistnm\u001b[0m\u001b[0;34m\u001b[0m\u001b[0;34m\u001b[0m\u001b[0m\n\u001b[0m",
            "\u001b[0;31mNameError\u001b[0m: name 'listnm' is not defined"
          ]
        }
      ]
    },
    {
      "cell_type": "code",
      "source": [
        "adv=listfive[0:-18]"
      ],
      "metadata": {
        "id": "sFgbvCAhfQXX"
      },
      "execution_count": null,
      "outputs": []
    },
    {
      "cell_type": "code",
      "source": [
        "fname=list(listnm[0:-18])"
      ],
      "metadata": {
        "id": "zqFQe4bav1Bt"
      },
      "execution_count": null,
      "outputs": []
    },
    {
      "cell_type": "code",
      "source": [
        "fname"
      ],
      "metadata": {
        "colab": {
          "base_uri": "https://localhost:8080/"
        },
        "id": "DI-U2UmOxEG6",
        "outputId": "724809a3-d65d-4ae4-f4a4-019b1a603bfc"
      },
      "execution_count": null,
      "outputs": [
        {
          "output_type": "execute_result",
          "data": {
            "text/plain": [
              "['MYD04_L2.A2019273.0910.061.2019275191934.hdf',\n",
              " 'MYD04_L2.A2019274.0815.061.2019275193237.hdf',\n",
              " 'MYD04_L2.A2019274.0820.061.2019275193415.hdf',\n",
              " 'MYD04_L2.A2019275.0720.061.2019282133721.hdf',\n",
              " 'MYD04_L2.A2019275.0725.061.2019282133729.hdf',\n",
              " 'MYD04_L2.A2019275.0900.061.2019282134859.hdf',\n",
              " 'MYD04_L2.A2019278.0750.061.2019282151456.hdf',\n",
              " 'MYD04_L2.A2019278.0755.061.2019282151753.hdf',\n",
              " 'MYD04_L2.A2019279.0700.061.2019282152639.hdf',\n",
              " 'MYD04_L2.A2019279.0835.061.2019282152808.hdf',\n",
              " 'MYD04_L2.A2019280.0740.061.2019282154225.hdf',\n",
              " 'MYD04_L2.A2019276.0805.061.2019282155813.hdf',\n",
              " 'MYD04_L2.A2019277.0845.061.2019282160833.hdf',\n",
              " 'MYD04_L2.A2019277.0710.061.2019282160906.hdf',\n",
              " 'MYD04_L2.A2019277.0850.061.2019282161034.hdf',\n",
              " 'MYD04_L2.A2019281.0820.061.2019282162202.hdf',\n",
              " 'MYD04_L2.A2019281.0825.061.2019282162401.hdf',\n",
              " 'MYD04_L2.A2019282.0730.061.2019284160604.hdf',\n",
              " 'MYD04_L2.A2019282.0725.061.2019284160625.hdf',\n",
              " 'MYD04_L2.A2019282.0905.061.2019284160736.hdf',\n",
              " 'MYD04_L2.A2019283.0810.061.2019284172152.hdf',\n",
              " 'MYD04_L2.A2019284.0715.061.2019284192822.hdf',\n",
              " 'MYD04_L2.A2019284.0855.061.2019284193015.hdf',\n",
              " 'MYD04_L2.A2019287.0745.061.2019295120800.hdf',\n",
              " 'MYD04_L2.A2019288.0830.061.2019295121828.hdf',\n",
              " 'MYD04_L2.A2019289.0910.061.2019295123326.hdf',\n",
              " 'MYD04_L2.A2019289.0735.061.2019295123344.hdf',\n",
              " 'MYD04_L2.A2019285.0755.061.2019295124729.hdf',\n",
              " 'MYD04_L2.A2019285.0800.061.2019295124947.hdf',\n",
              " 'MYD04_L2.A2019286.0840.061.2019295130148.hdf',\n",
              " 'MYD04_L2.A2019286.0845.061.2019295130446.hdf',\n",
              " 'MYD04_L2.A2019286.0705.061.2019295130706.hdf',\n",
              " 'MYD04_L2.A2019290.0815.061.2019295131736.hdf',\n",
              " 'MYD04_L2.A2019290.0820.061.2019295131718.hdf',\n",
              " 'MYD04_L2.A2019291.0725.061.2019295132907.hdf',\n",
              " 'MYD04_L2.A2019291.0900.061.2019295132846.hdf',\n",
              " 'MYD04_L2.A2019291.0720.061.2019295132927.hdf',\n",
              " 'MYD04_L2.A2019292.0805.061.2019295134305.hdf',\n",
              " 'MYD04_L2.A2019293.0845.061.2019295143641.hdf',\n",
              " 'MYD04_L2.A2019293.0710.061.2019295143742.hdf',\n",
              " 'MYD04_L2.A2019293.0850.061.2019295143817.hdf',\n",
              " 'MYD04_L2.A2019294.0750.061.2019295145121.hdf',\n",
              " 'MYD04_L2.A2019294.0755.061.2019295145559.hdf',\n",
              " 'MYD04_L2.A2019295.0700.061.2019295194807.hdf',\n",
              " 'MYD04_L2.A2019295.0835.061.2019295194822.hdf',\n",
              " 'MYD04_L2.A2019296.0740.061.2019296191502.hdf',\n",
              " 'MYD04_L2.A2019297.0820.061.2019297191217.hdf',\n",
              " 'MYD04_L2.A2019297.0825.061.2019297191357.hdf',\n",
              " 'MYD04_L2.A2019298.0730.061.2019298194424.hdf',\n",
              " 'MYD04_L2.A2019298.0725.061.2019298194544.hdf',\n",
              " 'MYD04_L2.A2019298.0905.061.2019298194545.hdf',\n",
              " 'MYD04_L2.A2019299.0810.061.2019299192402.hdf',\n",
              " 'MYD04_L2.A2019300.0855.061.2019300191549.hdf',\n",
              " 'MYD04_L2.A2019300.0715.061.2019300191714.hdf',\n",
              " 'MYD04_L2.A2019301.0755.061.2019301192922.hdf',\n",
              " 'MYD04_L2.A2019301.0800.061.2019301193544.hdf',\n",
              " 'MYD04_L2.A2019302.0840.061.2019302192503.hdf',\n",
              " 'MYD04_L2.A2019302.0845.061.2019302192548.hdf',\n",
              " 'MYD04_L2.A2019302.0705.061.2019302192724.hdf',\n",
              " 'MYD04_L2.A2019303.0745.061.2019303204728.hdf',\n",
              " 'MYD04_L2.A2019304.0830.061.2019304192043.hdf',\n",
              " 'MYD04_L2.A2019305.0910.061.2019305191623.hdf',\n",
              " 'MYD04_L2.A2019305.0735.061.2019305191829.hdf',\n",
              " 'MYD04_L2.A2019305.0730.061.2019305192007.hdf',\n",
              " 'MYD04_L2.A2019306.0815.061.2019306191950.hdf',\n",
              " 'MYD04_L2.A2019306.0820.061.2019306192026.hdf',\n",
              " 'MYD04_L2.A2019307.0720.061.2019307210053.hdf',\n",
              " 'MYD04_L2.A2019307.0900.061.2019307210806.hdf',\n",
              " 'MYD04_L2.A2019308.0805.061.2019311170644.hdf',\n",
              " 'MYD04_L2.A2019309.0710.061.2019311171250.hdf',\n",
              " 'MYD04_L2.A2019309.0845.061.2019311171238.hdf',\n",
              " 'MYD04_L2.A2019309.0850.061.2019311171404.hdf',\n",
              " 'MYD04_L2.A2019310.0750.061.2019312153609.hdf']"
            ]
          },
          "metadata": {},
          "execution_count": 33
        }
      ]
    },
    {
      "cell_type": "code",
      "source": [
        "len(fname)"
      ],
      "metadata": {
        "colab": {
          "base_uri": "https://localhost:8080/"
        },
        "id": "TcEac0Xu-EV0",
        "outputId": "097cf8c8-0d1a-43d8-d88d-8d39cf6e6e6d"
      },
      "execution_count": null,
      "outputs": [
        {
          "output_type": "execute_result",
          "data": {
            "text/plain": [
              "85"
            ]
          },
          "metadata": {},
          "execution_count": 17
        }
      ]
    },
    {
      "cell_type": "code",
      "source": [
        "len(adv)"
      ],
      "metadata": {
        "colab": {
          "base_uri": "https://localhost:8080/"
        },
        "id": "yDtqZjoRzOUJ",
        "outputId": "91567aa8-23de-4e39-87d2-404fa130f047"
      },
      "execution_count": null,
      "outputs": [
        {
          "output_type": "execute_result",
          "data": {
            "text/plain": [
              "85"
            ]
          },
          "metadata": {},
          "execution_count": 18
        }
      ]
    },
    {
      "cell_type": "code",
      "source": [
        "Fdata=pd.DataFrame()\n",
        "Fdata['Filename']= fname\n",
        "Fdata['AOD value']=adv\n",
        "\n"
      ],
      "metadata": {
        "id": "TyPvIWCQvEQH"
      },
      "execution_count": null,
      "outputs": []
    },
    {
      "cell_type": "code",
      "source": [
        "Fdata"
      ],
      "metadata": {
        "colab": {
          "base_uri": "https://localhost:8080/",
          "height": 423
        },
        "id": "m3hwenY9tVu_",
        "outputId": "3a506395-5f57-413f-92f9-cdc6a11b7de1"
      },
      "execution_count": null,
      "outputs": [
        {
          "output_type": "execute_result",
          "data": {
            "text/plain": [
              "                                        Filename  AOD value\n",
              "0   MYD04_L2.A2019273.0910.061.2019275191934.hdf   0.000000\n",
              "1   MYD04_L2.A2019274.0815.061.2019275193237.hdf   0.467857\n",
              "2   MYD04_L2.A2019274.0820.061.2019275193415.hdf   0.323263\n",
              "3   MYD04_L2.A2019275.0720.061.2019282133721.hdf   0.000000\n",
              "4   MYD04_L2.A2019275.0725.061.2019282133729.hdf   0.643857\n",
              "..                                           ...        ...\n",
              "68  MYD04_L2.A2019308.0805.061.2019311170644.hdf   0.867438\n",
              "69  MYD04_L2.A2019309.0710.061.2019311171250.hdf   0.000000\n",
              "70  MYD04_L2.A2019309.0845.061.2019311171238.hdf   0.646080\n",
              "71  MYD04_L2.A2019309.0850.061.2019311171404.hdf   0.331120\n",
              "72  MYD04_L2.A2019310.0750.061.2019312153609.hdf   0.801389\n",
              "\n",
              "[73 rows x 2 columns]"
            ],
            "text/html": [
              "\n",
              "  <div id=\"df-b626188b-dc9d-425a-a4dc-0b83382f9a6a\">\n",
              "    <div class=\"colab-df-container\">\n",
              "      <div>\n",
              "<style scoped>\n",
              "    .dataframe tbody tr th:only-of-type {\n",
              "        vertical-align: middle;\n",
              "    }\n",
              "\n",
              "    .dataframe tbody tr th {\n",
              "        vertical-align: top;\n",
              "    }\n",
              "\n",
              "    .dataframe thead th {\n",
              "        text-align: right;\n",
              "    }\n",
              "</style>\n",
              "<table border=\"1\" class=\"dataframe\">\n",
              "  <thead>\n",
              "    <tr style=\"text-align: right;\">\n",
              "      <th></th>\n",
              "      <th>Filename</th>\n",
              "      <th>AOD value</th>\n",
              "    </tr>\n",
              "  </thead>\n",
              "  <tbody>\n",
              "    <tr>\n",
              "      <th>0</th>\n",
              "      <td>MYD04_L2.A2019273.0910.061.2019275191934.hdf</td>\n",
              "      <td>0.000000</td>\n",
              "    </tr>\n",
              "    <tr>\n",
              "      <th>1</th>\n",
              "      <td>MYD04_L2.A2019274.0815.061.2019275193237.hdf</td>\n",
              "      <td>0.467857</td>\n",
              "    </tr>\n",
              "    <tr>\n",
              "      <th>2</th>\n",
              "      <td>MYD04_L2.A2019274.0820.061.2019275193415.hdf</td>\n",
              "      <td>0.323263</td>\n",
              "    </tr>\n",
              "    <tr>\n",
              "      <th>3</th>\n",
              "      <td>MYD04_L2.A2019275.0720.061.2019282133721.hdf</td>\n",
              "      <td>0.000000</td>\n",
              "    </tr>\n",
              "    <tr>\n",
              "      <th>4</th>\n",
              "      <td>MYD04_L2.A2019275.0725.061.2019282133729.hdf</td>\n",
              "      <td>0.643857</td>\n",
              "    </tr>\n",
              "    <tr>\n",
              "      <th>...</th>\n",
              "      <td>...</td>\n",
              "      <td>...</td>\n",
              "    </tr>\n",
              "    <tr>\n",
              "      <th>68</th>\n",
              "      <td>MYD04_L2.A2019308.0805.061.2019311170644.hdf</td>\n",
              "      <td>0.867438</td>\n",
              "    </tr>\n",
              "    <tr>\n",
              "      <th>69</th>\n",
              "      <td>MYD04_L2.A2019309.0710.061.2019311171250.hdf</td>\n",
              "      <td>0.000000</td>\n",
              "    </tr>\n",
              "    <tr>\n",
              "      <th>70</th>\n",
              "      <td>MYD04_L2.A2019309.0845.061.2019311171238.hdf</td>\n",
              "      <td>0.646080</td>\n",
              "    </tr>\n",
              "    <tr>\n",
              "      <th>71</th>\n",
              "      <td>MYD04_L2.A2019309.0850.061.2019311171404.hdf</td>\n",
              "      <td>0.331120</td>\n",
              "    </tr>\n",
              "    <tr>\n",
              "      <th>72</th>\n",
              "      <td>MYD04_L2.A2019310.0750.061.2019312153609.hdf</td>\n",
              "      <td>0.801389</td>\n",
              "    </tr>\n",
              "  </tbody>\n",
              "</table>\n",
              "<p>73 rows × 2 columns</p>\n",
              "</div>\n",
              "      <button class=\"colab-df-convert\" onclick=\"convertToInteractive('df-b626188b-dc9d-425a-a4dc-0b83382f9a6a')\"\n",
              "              title=\"Convert this dataframe to an interactive table.\"\n",
              "              style=\"display:none;\">\n",
              "        \n",
              "  <svg xmlns=\"http://www.w3.org/2000/svg\" height=\"24px\"viewBox=\"0 0 24 24\"\n",
              "       width=\"24px\">\n",
              "    <path d=\"M0 0h24v24H0V0z\" fill=\"none\"/>\n",
              "    <path d=\"M18.56 5.44l.94 2.06.94-2.06 2.06-.94-2.06-.94-.94-2.06-.94 2.06-2.06.94zm-11 1L8.5 8.5l.94-2.06 2.06-.94-2.06-.94L8.5 2.5l-.94 2.06-2.06.94zm10 10l.94 2.06.94-2.06 2.06-.94-2.06-.94-.94-2.06-.94 2.06-2.06.94z\"/><path d=\"M17.41 7.96l-1.37-1.37c-.4-.4-.92-.59-1.43-.59-.52 0-1.04.2-1.43.59L10.3 9.45l-7.72 7.72c-.78.78-.78 2.05 0 2.83L4 21.41c.39.39.9.59 1.41.59.51 0 1.02-.2 1.41-.59l7.78-7.78 2.81-2.81c.8-.78.8-2.07 0-2.86zM5.41 20L4 18.59l7.72-7.72 1.47 1.35L5.41 20z\"/>\n",
              "  </svg>\n",
              "      </button>\n",
              "      \n",
              "  <style>\n",
              "    .colab-df-container {\n",
              "      display:flex;\n",
              "      flex-wrap:wrap;\n",
              "      gap: 12px;\n",
              "    }\n",
              "\n",
              "    .colab-df-convert {\n",
              "      background-color: #E8F0FE;\n",
              "      border: none;\n",
              "      border-radius: 50%;\n",
              "      cursor: pointer;\n",
              "      display: none;\n",
              "      fill: #1967D2;\n",
              "      height: 32px;\n",
              "      padding: 0 0 0 0;\n",
              "      width: 32px;\n",
              "    }\n",
              "\n",
              "    .colab-df-convert:hover {\n",
              "      background-color: #E2EBFA;\n",
              "      box-shadow: 0px 1px 2px rgba(60, 64, 67, 0.3), 0px 1px 3px 1px rgba(60, 64, 67, 0.15);\n",
              "      fill: #174EA6;\n",
              "    }\n",
              "\n",
              "    [theme=dark] .colab-df-convert {\n",
              "      background-color: #3B4455;\n",
              "      fill: #D2E3FC;\n",
              "    }\n",
              "\n",
              "    [theme=dark] .colab-df-convert:hover {\n",
              "      background-color: #434B5C;\n",
              "      box-shadow: 0px 1px 3px 1px rgba(0, 0, 0, 0.15);\n",
              "      filter: drop-shadow(0px 1px 2px rgba(0, 0, 0, 0.3));\n",
              "      fill: #FFFFFF;\n",
              "    }\n",
              "  </style>\n",
              "\n",
              "      <script>\n",
              "        const buttonEl =\n",
              "          document.querySelector('#df-b626188b-dc9d-425a-a4dc-0b83382f9a6a button.colab-df-convert');\n",
              "        buttonEl.style.display =\n",
              "          google.colab.kernel.accessAllowed ? 'block' : 'none';\n",
              "\n",
              "        async function convertToInteractive(key) {\n",
              "          const element = document.querySelector('#df-b626188b-dc9d-425a-a4dc-0b83382f9a6a');\n",
              "          const dataTable =\n",
              "            await google.colab.kernel.invokeFunction('convertToInteractive',\n",
              "                                                     [key], {});\n",
              "          if (!dataTable) return;\n",
              "\n",
              "          const docLinkHtml = 'Like what you see? Visit the ' +\n",
              "            '<a target=\"_blank\" href=https://colab.research.google.com/notebooks/data_table.ipynb>data table notebook</a>'\n",
              "            + ' to learn more about interactive tables.';\n",
              "          element.innerHTML = '';\n",
              "          dataTable['output_type'] = 'display_data';\n",
              "          await google.colab.output.renderOutput(dataTable, element);\n",
              "          const docLink = document.createElement('div');\n",
              "          docLink.innerHTML = docLinkHtml;\n",
              "          element.appendChild(docLink);\n",
              "        }\n",
              "      </script>\n",
              "    </div>\n",
              "  </div>\n",
              "  "
            ]
          },
          "metadata": {},
          "execution_count": 35
        }
      ]
    },
    {
      "cell_type": "code",
      "source": [
        "Fdata.to_csv('9b.csv')"
      ],
      "metadata": {
        "id": "JlQvajuJySkE"
      },
      "execution_count": null,
      "outputs": []
    },
    {
      "cell_type": "code",
      "source": [
        "from google.colab import files\n",
        "uploaded=files.upload()"
      ],
      "metadata": {
        "id": "2lXXiL6i-v_2"
      },
      "execution_count": null,
      "outputs": []
    }
  ]
}